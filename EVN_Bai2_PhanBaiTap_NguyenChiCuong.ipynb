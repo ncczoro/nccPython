{
  "nbformat": 4,
  "nbformat_minor": 0,
  "metadata": {
    "colab": {
      "name": "EVN-Bai2-PhanBaiTap-NguyenChiCuong.ipynb",
      "provenance": [],
      "collapsed_sections": [],
      "authorship_tag": "ABX9TyO78i4hT9CCh3kX1++AkPtv",
      "include_colab_link": true
    },
    "kernelspec": {
      "name": "python3",
      "display_name": "Python 3"
    },
    "language_info": {
      "name": "python"
    }
  },
  "cells": [
    {
      "cell_type": "markdown",
      "metadata": {
        "id": "view-in-github",
        "colab_type": "text"
      },
      "source": [
        "<a href=\"https://colab.research.google.com/github/ncczoro/nccPython/blob/master/EVN_Bai2_PhanBaiTap_NguyenChiCuong.ipynb\" target=\"_parent\"><img src=\"https://colab.research.google.com/assets/colab-badge.svg\" alt=\"Open In Colab\"/></a>"
      ]
    },
    {
      "cell_type": "markdown",
      "metadata": {
        "id": "fT40TghdYKBV"
      },
      "source": [
        "# Buổi 2 - phần thực hành\n",
        "> Giảng viên: Đặng Văn Nam,\n",
        "> Email: namdv@aiacademy.edu.vn\n",
        "\n",
        "> Học viên: Nguyễn Chí Cường,\n",
        "> Email: cuongnv.evnit@evn.com.vn"
      ]
    },
    {
      "cell_type": "code",
      "metadata": {
        "id": "lDcjj18hZ0Rw"
      },
      "source": [
        ""
      ],
      "execution_count": null,
      "outputs": []
    },
    {
      "cell_type": "markdown",
      "metadata": {
        "id": "-1T9PcDqavVI"
      },
      "source": [
        "# New Section"
      ]
    },
    {
      "cell_type": "code",
      "metadata": {
        "id": "Bd9y5soMZ3O9"
      },
      "source": [
        ""
      ],
      "execution_count": null,
      "outputs": []
    },
    {
      "cell_type": "markdown",
      "metadata": {
        "id": "lgrPfWv6YcIb"
      },
      "source": [
        ""
      ]
    }
  ]
}