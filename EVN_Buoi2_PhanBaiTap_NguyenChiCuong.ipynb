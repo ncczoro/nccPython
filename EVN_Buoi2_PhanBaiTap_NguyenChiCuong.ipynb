{
  "nbformat": 4,
  "nbformat_minor": 0,
  "metadata": {
    "colab": {
      "name": "EVN-Buoi2-PhanBaiTap-NguyenChiCuong.ipynb",
      "provenance": [],
      "collapsed_sections": [],
      "authorship_tag": "ABX9TyN1lNbhpRivBazBVXiKP/bs",
      "include_colab_link": true
    },
    "kernelspec": {
      "name": "python3",
      "display_name": "Python 3"
    },
    "language_info": {
      "name": "python"
    }
  },
  "cells": [
    {
      "cell_type": "markdown",
      "metadata": {
        "id": "view-in-github",
        "colab_type": "text"
      },
      "source": [
        "<a href=\"https://colab.research.google.com/github/ncczoro/nccPython/blob/master/EVN_Buoi2_PhanBaiTap_NguyenChiCuong.ipynb\" target=\"_parent\"><img src=\"https://colab.research.google.com/assets/colab-badge.svg\" alt=\"Open In Colab\"/></a>"
      ]
    },
    {
      "cell_type": "markdown",
      "metadata": {
        "id": "fT40TghdYKBV"
      },
      "source": [
        "# Buổi 2 - Python cơ bản - phần thực hành\n",
        "> Giảng viên: Đặng Văn Nam,\n",
        "> Email: namdv@aiacademy.edu.vn\n",
        "\n",
        "> Học viên: Nguyễn Chí Cường,\n",
        "> Email: cuongnc.evnit@evn.com.vn"
      ]
    },
    {
      "cell_type": "markdown",
      "metadata": {
        "id": "-1T9PcDqavVI"
      },
      "source": [
        "## Bài 6: Xác định nguyên âm|Phụ âm\n",
        "Nhập vào một ký tự chữ cái bất kỳ(không phân biệt chữ hoa-chữ thường), cho biết nó là nguyên âm hay phụ âm trong tiếng anh."
      ]
    },
    {
      "cell_type": "code",
      "metadata": {
        "colab": {
          "base_uri": "https://localhost:8080/"
        },
        "id": "lDcjj18hZ0Rw",
        "outputId": "d3021eb5-21d8-4c7c-c277-fa92555cc0c2"
      },
      "source": [
        "print(input(\"Nhập ký tự: \").upper() in ['U', 'E', 'O', 'I', 'A'] and 'Nguyên âm' or 'Phụ âm')"
      ],
      "execution_count": 4,
      "outputs": [
        {
          "output_type": "stream",
          "text": [
            "Nhập ký tự: v\n",
            "Phụ âm\n"
          ],
          "name": "stdout"
        }
      ]
    },
    {
      "cell_type": "markdown",
      "metadata": {
        "id": "lgrPfWv6YcIb"
      },
      "source": [
        "## Bài 7: Tính chỉ số BMI\n",
        "Nhập vào chiều cao (m) và cân nặng (kg) và tính chỉ số BMI của người đó, Dựa vào chỉ số BMI tính được đưa ra nhận xét về cơ thể của người đó."
      ]
    },
    {
      "cell_type": "code",
      "metadata": {
        "colab": {
          "base_uri": "https://localhost:8080/"
        },
        "id": "5I6s8v35u7XS",
        "outputId": "7bdb6673-5334-4c58-f309-3228de44a27b"
      },
      "source": [
        "while True:\n",
        "  ipHeight = input('Nhập chiều cao: ')\n",
        "  ipWeight = input('Nhap can nang: ')\n",
        "  if(ipHeight.isalpha() | ipWeight.isalpha()):\n",
        "    print('Khong hop le!')\n",
        "    continue\n",
        "  else: break\n",
        "\n",
        "iBMI = round(float(ipWeight)/(float(ipHeight))**2)\n",
        "print('BMI (kg/m2): ', iBMI )\n",
        "if (iBMI < 18.5): print('Under weight')\n",
        "elif (iBMI >= 18.5 and iBMI <=24.9): print('Normal weight')\n",
        "elif (iBMI >= 25 and iBMI <= 29.9): print('Over weight')\n",
        "else: print('Obese')"
      ],
      "execution_count": 14,
      "outputs": [
        {
          "output_type": "stream",
          "text": [
            "Nhập chiều cao: 2\n",
            "Nhap can nang: 323\n",
            "BMI (kg/m2):  81\n",
            "Obese\n"
          ],
          "name": "stdout"
        }
      ]
    },
    {
      "cell_type": "markdown",
      "metadata": {
        "id": "WKq06KZX3aJ0"
      },
      "source": [
        "## Bài 8: Xác định mùa trong năm\n",
        "Nhập vào tháng sinh của bạn, và cho biết bạn sinh vào mùa nào biết:\n",
        "\n",
        "\n",
        "• Yêu cầu:\n",
        "- Nếu 1, 2, 3: Bạn sinh vào Mùa xuân\n",
        "- Nếu 4, 5, 6: Bạn sinh vào Mùa hạ\n",
        "- Nếu 7, 8, 9: Bạn sinh vào Mùa thu\n",
        "- Nếu 10, 11, 12: Bạn sinh vào Mùa đông\n",
        "- <1 hoặc >12: Tháng sinh nhập vào không đúng"
      ]
    },
    {
      "cell_type": "code",
      "metadata": {
        "colab": {
          "base_uri": "https://localhost:8080/"
        },
        "id": "LzlDOtBE0ymW",
        "outputId": "b4c6db2a-9930-49f9-8cb9-6ab9c6e93dbe"
      },
      "source": [
        "while True:\n",
        "  ipThang = input('Moi nhap thang sinh')\n",
        "  if(ipThang.isalpha()):\n",
        "    print('Khong hop le!')\n",
        "    continue\n",
        "  elif (int(ipThang) < 1 or int(ipThang) > 12):\n",
        "    print('Khong hop le!')\n",
        "    continue\n",
        "  else: break\n",
        "\n",
        "if(ipThang in ['1', '2', '3']):\n",
        "  print('Mua xuan')\n",
        "elif (ipThang in ['4', '5', '6']):\n",
        "  print('Mua he')\n",
        "elif (ipThang in ['7', '8','9']):\n",
        "  print('Mua thu')\n",
        "else: print(\"Mua dong\")"
      ],
      "execution_count": 22,
      "outputs": [
        {
          "output_type": "stream",
          "text": [
            "Moi nhap thang sinh12\n",
            "Mua dong\n"
          ],
          "name": "stdout"
        }
      ]
    },
    {
      "cell_type": "code",
      "metadata": {
        "colab": {
          "base_uri": "https://localhost:8080/"
        },
        "id": "Uy8E9AbU4s7d",
        "outputId": "c9109ebf-d8dd-4c0a-e75b-5f5afd93e766"
      },
      "source": [
        "print(range(1,10), type(range(3)))"
      ],
      "execution_count": 24,
      "outputs": [
        {
          "output_type": "stream",
          "text": [
            "range(1, 10) <class 'range'>\n"
          ],
          "name": "stdout"
        }
      ]
    },
    {
      "cell_type": "markdown",
      "metadata": {
        "id": "1YRFoHWc9Nrb"
      },
      "source": [
        "## Bài 9: Hiển thị bảng cửu chương\n",
        "Nhập vào bảng cửu chương muốn in (1 – 10), hiển thị bảng cửu chương tương ứng\n",
        "với số vừa nhập. (Thực hiện kiểm tra giá trị nhập, chỉ thỏa mãn khi giá trị nhập vào\n",
        "trong khoảng [1,10]"
      ]
    },
    {
      "cell_type": "code",
      "metadata": {
        "colab": {
          "base_uri": "https://localhost:8080/"
        },
        "id": "8mxxoRb48VTv",
        "outputId": "b8a8331c-70d2-4648-f31e-b2322d407b2c"
      },
      "source": [
        "while True:\n",
        "  ipSo = input('Moi nhap bang cuu chuong: ')\n",
        "  if(ipThang.isalpha()):\n",
        "    print('Khong hop le!')\n",
        "    continue\n",
        "  elif (int(ipSo) < 1 or int(ipSo) > 10):\n",
        "    print('Khong hop le!')\n",
        "    continue\n",
        "  else: break\n",
        "\n",
        "for i in range(1, 11):\n",
        "  print(ipSo, ' x ', i, ' = ', int(ipSo)*i)"
      ],
      "execution_count": 26,
      "outputs": [
        {
          "output_type": "stream",
          "text": [
            "Moi nhap bang cuu chuong: 2\n",
            "2  x  1  =  2\n",
            "2  x  2  =  4\n",
            "2  x  3  =  6\n",
            "2  x  4  =  8\n",
            "2  x  5  =  10\n",
            "2  x  6  =  12\n",
            "2  x  7  =  14\n",
            "2  x  8  =  16\n",
            "2  x  9  =  18\n",
            "2  x  10  =  20\n"
          ],
          "name": "stdout"
        }
      ]
    },
    {
      "cell_type": "markdown",
      "metadata": {
        "id": "xq1X7emXAH1D"
      },
      "source": [
        "## Bài 10: Tính điểm học tập của bạn\n",
        "Khởi tạo một danh sách bao gồm các phần tử là điểm của bạn (hệ 10). Hãy thực hiện:\n",
        "1) Tạo một danh sách là các điểm chữ tương ứng với điểm hệ 10 ở trên.\n",
        "2) Tính điểm trung bình Hệ 10 và Hệ 4"
      ]
    },
    {
      "cell_type": "code",
      "metadata": {
        "colab": {
          "base_uri": "https://localhost:8080/"
        },
        "id": "DesFADsH96vK",
        "outputId": "14258ca7-28b0-4fd8-c670-687e261d2481"
      },
      "source": [
        "lstDiem10 = [3.3, 6.5, 10, 3.5, 7.8, 8.7, 5.6]\n",
        "lstDiem4 = []\n",
        "lstDiemChu = []\n",
        "sum10 = 0\n",
        "sum4 = 0\n",
        "for i in lstDiem10:\n",
        "  sum10 += i\n",
        "  if(i>=9 and i<=10):\n",
        "    lstDiem4.append(4.0)\n",
        "    lstDiemChu.append('A+')\n",
        "  elif (i>=8.5 and i<=8.9):\n",
        "    lstDiem4.append(3.7)\n",
        "    lstDiemChu.append('A')\n",
        "  elif (i>=8 and i<=8.4):\n",
        "    lstDiem4.append(3.5)\n",
        "    lstDiemChu.append('B+')\n",
        "  elif (i>=7 and i<=7.9):\n",
        "    lstDiem4.append(3)\n",
        "    lstDiemChu.append('B')\n",
        "  elif (i>=6.5 and i<=6.9):\n",
        "    lstDiem4.append(2.5)\n",
        "    lstDiemChu.append('C+')\n",
        "  elif (i>=5.5 and i<=6.4):\n",
        "    lstDiem4.append(2)\n",
        "    lstDiemChu.append('C')\n",
        "  elif (i>=5 and i<=5.4):\n",
        "    lstDiem4.append(1.5)\n",
        "    lstDiemChu.append('D+')\n",
        "  elif (i>=4 and i<=4.9):\n",
        "    lstDiem4.append(1)\n",
        "    lstDiemChu.append('D')\n",
        "  else:\n",
        "    lstDiem4.append(0)\n",
        "    lstDiemChu.append('F')\n",
        "for i in lstDiem4:\n",
        "  sum4 +=i\n",
        "print('Diem 10: ', lstDiem10)\n",
        "print('Diem 4: ', lstDiem4)\n",
        "print('Diem chu: ', lstDiemChu)\n",
        "print('-----Diem trung binh------')\n",
        "print('Tong so mon hoc: ', len(lstDiem10))\n",
        "print('DTB he 10: ', sum10/len(lstDiem10))\n",
        "print('DTB he 4:' , sum4/len(lstDiem4))\n"
      ],
      "execution_count": 32,
      "outputs": [
        {
          "output_type": "stream",
          "text": [
            "Diem 10:  [3.3, 6.5, 10, 3.5, 7.8, 8.7, 5.6]\n",
            "Diem 4:  [0, 2.5, 4.0, 0, 3, 3.7, 2]\n",
            "Diem chu:  ['F', 'C+', 'A+', 'F', 'B', 'A', 'C']\n",
            "-----Diem trung binh------\n",
            "Tong so mon hoc:  7\n",
            "DTB he 10:  6.485714285714286\n",
            "DTB he 4: 2.1714285714285713\n"
          ],
          "name": "stdout"
        }
      ]
    },
    {
      "cell_type": "markdown",
      "metadata": {
        "id": "YBLZ5J8vDwX2"
      },
      "source": [
        "## Bài 11: Kiểm tra N có là số nguyên tố?\n",
        "Nhập vào số tự nhiên N, cho biết N có phải là số nguyên tố hay không? (Số nguyên tố\n",
        "là số lớn hơn 1, chỉ chia hết cho 1 và chính nó)"
      ]
    },
    {
      "cell_type": "code",
      "metadata": {
        "colab": {
          "base_uri": "https://localhost:8080/"
        },
        "id": "3Dke1-OnAFsJ",
        "outputId": "056914ac-504e-48be-d535-faa80ed7b877"
      },
      "source": [
        "import math\n",
        "def isPrimeNumber(n):\n",
        "    if (n < 2):\n",
        "        return False;\n",
        "    for i in range(2, int(math.sqrt(n)) + 1):\n",
        "        if (n % i == 0):\n",
        "            return False;\n",
        "    return True;\n",
        " \n",
        "n = int(input(\"Nhap n = \"));\n",
        "\n",
        "if (isPrimeNumber(n)):\n",
        "  print(\"So nguyen to\")\n",
        "else:\n",
        "  print(\"khong phai so nguyen to\")"
      ],
      "execution_count": 56,
      "outputs": [
        {
          "output_type": "stream",
          "text": [
            "Nhap n = 100\n",
            "khong phai so nguyen to\n"
          ],
          "name": "stdout"
        }
      ]
    },
    {
      "cell_type": "markdown",
      "metadata": {
        "id": "k_iwytWuJTZE"
      },
      "source": [
        "## Bài 12: dãy số nguyên tố.\n",
        "Nhập vào một số N, hiển thị các số nguyên tố từ 2 tới N:"
      ]
    },
    {
      "cell_type": "code",
      "metadata": {
        "colab": {
          "base_uri": "https://localhost:8080/"
        },
        "id": "cwiZ660CHEa0",
        "outputId": "43d9cfdc-5e4c-4f03-c458-9337b2cfd084"
      },
      "source": [
        "n = int(input(\"Nhap n = \"))\n",
        "result = \"\"\n",
        "if (n >= 2):\n",
        "    result = result + \"2\" + \" \"\n",
        "for i in range (3, n+1):\n",
        "    if (isPrimeNumber(i)):\n",
        "        result = result + str(i) + \" \"\n",
        "    i = i + 2\n",
        "\n",
        "print('danh so so nguyen to: ', result)"
      ],
      "execution_count": 59,
      "outputs": [
        {
          "output_type": "stream",
          "text": [
            "Nhap n = 250\n",
            "danh so so nguyen to:  2 3 5 7 11 13 17 19 23 29 31 37 41 43 47 53 59 61 67 71 73 79 83 89 97 101 103 107 109 113 127 131 137 139 149 151 157 163 167 173 179 181 191 193 197 199 211 223 227 229 233 239 241 \n"
          ],
          "name": "stdout"
        }
      ]
    },
    {
      "cell_type": "markdown",
      "metadata": {
        "id": "ESlzsYtANPtQ"
      },
      "source": [
        "## Bài 13: Đổi số từ thập phân sang nhị phân.\n",
        "Nhập vào một số tự nhiên N (N>0), chuyển đổi số N sang hệ nhị phân."
      ]
    },
    {
      "cell_type": "code",
      "metadata": {
        "colab": {
          "base_uri": "https://localhost:8080/"
        },
        "id": "n4JWBd9VKXGF",
        "outputId": "66cfad68-622d-4396-9a8d-9505ea98495e"
      },
      "source": [
        "n = int(input('Nhap n = '))\n",
        "result = \"\"\n",
        "while True:\n",
        "  be = n%2\n",
        "  n = n//2;\n",
        "  result = result + str(be)\n",
        "  if(n // 2 == 0): break\n",
        "result = result + '1'\n",
        "print(\"Chuyen sang he binary: \", result[::-1])\n"
      ],
      "execution_count": 79,
      "outputs": [
        {
          "output_type": "stream",
          "text": [
            "Nhap n = 1024\n",
            "Chuyen sang he binary:  10000000000\n"
          ],
          "name": "stdout"
        }
      ]
    },
    {
      "cell_type": "markdown",
      "metadata": {
        "id": "hJ7Dk69CS5Bd"
      },
      "source": [
        "## Bài 14: Tìm số Max – Min - Mean.\n",
        "Khởi tạo một dãy số là chiều cao của sinh viên trong một lớp (m). Thực hiện:\n",
        "\n",
        "\n",
        "1) Hiển thị chiều cao của sinh viên cao nhất – thấp nhất trong lớp\n",
        "\n",
        "2) Tính chiều cao trung bình của sinh viên trong lớp.\n",
        "\n",
        "3) Số lượng sinh viên trong lớp có chiều cao lớn hơn hoặc bằng chiều cao trung bình\n",
        "của lớp"
      ]
    },
    {
      "cell_type": "code",
      "metadata": {
        "colab": {
          "base_uri": "https://localhost:8080/"
        },
        "id": "VHDaciOIPpP2",
        "outputId": "e02aa33f-6123-4b51-b642-e6907f174063"
      },
      "source": [
        "lstHeight = [1.7, 1.5, 1.3, 1.4, 1.8, 1.9, 1.1]\n",
        "\n",
        "lstSort = sorted(lstHeight)\n",
        "s = 0;\n",
        "tb = round(sum(lstHeight)/len(lstHeight), 2)\n",
        "for i in lstHeight:\n",
        "  if(i >= tb ): s += 1\n",
        "print('1. Cao nhat: ', lstSort[-1], ' m ', 'Thap nhat: ', lstSort[0], ' m ')\n",
        "print('2. Chieu cao trung binh: ', tb, ' m ')\n",
        "print('3. So sv co chieu cao lon hon hoac bang trung binh: ', s)"
      ],
      "execution_count": 90,
      "outputs": [
        {
          "output_type": "stream",
          "text": [
            "1. Cao nhat:  1.9  m  Thap nhat:  1.1  m \n",
            "2. Chieu cao trung binh:  1.53  m \n",
            "3. So sv co chieu cao lon hon hoac bang trung binh:  3\n"
          ],
          "name": "stdout"
        }
      ]
    }
  ]
}